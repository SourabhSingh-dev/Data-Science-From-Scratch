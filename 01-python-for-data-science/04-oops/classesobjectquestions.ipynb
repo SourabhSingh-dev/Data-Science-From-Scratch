{
 "cells": [
  {
   "cell_type": "code",
   "execution_count": 1,
   "metadata": {},
   "outputs": [
    {
     "name": "stdout",
     "output_type": "stream",
     "text": [
      "Audi\n",
      "202\n",
      "2025\n"
     ]
    }
   ],
   "source": [
    "# Create a class named `Car` with attributes `make`, `model`, and `year`. Create an object of the class and print its attributes.\n",
    "\n",
    "class Car:\n",
    "    def __init__(self,make,model,year):\n",
    "        self.make = make\n",
    "        self.model = model\n",
    "        self.year = year\n",
    "audi = Car(\"Audi\",202,2025)\n",
    "print(audi.make)\n",
    "print(audi.model)\n",
    "print(audi.year)"
   ]
  },
  {
   "cell_type": "code",
   "execution_count": 8,
   "id": "63bca499",
   "metadata": {},
   "outputs": [
    {
     "name": "stdout",
     "output_type": "stream",
     "text": [
      "Engine Started\n"
     ]
    }
   ],
   "source": [
    "#Add a method named `start_engine` to the `Car` class that prints a message when the engine starts. Create an object of the class and call the method.\n",
    "\n",
    "class Car:\n",
    "    def __init__(self,make,model,year):\n",
    "        self.make = make\n",
    "        self.model = model\n",
    "        self.year = year\n",
    "    def start_engine(self):\n",
    "        print('Engine Started')\n",
    "bmw = Car(\"BMW\",101,2021)\n",
    "bmw.start_engine()"
   ]
  },
  {
   "cell_type": "code",
   "execution_count": 9,
   "id": "d4099c72",
   "metadata": {},
   "outputs": [
    {
     "name": "stdout",
     "output_type": "stream",
     "text": [
      "ABC\n",
      "20\n"
     ]
    }
   ],
   "source": [
    "# Create a class named `Student` with attributes `name` and `age`. Use a constructor to initialize these attributes. Create an object of the class and print its attributes.\n",
    "\n",
    "class Student:\n",
    "    def __init__(self,name,age):\n",
    "        self.name = name\n",
    "        self.age = age\n",
    "std1 = Student(\"ABC\",20)\n",
    "print(std1.name)\n",
    "print(std1.age)"
   ]
  },
  {
   "cell_type": "code",
   "execution_count": 10,
   "id": "212d1c89",
   "metadata": {},
   "outputs": [
    {
     "name": "stdout",
     "output_type": "stream",
     "text": [
      "500 is deposited. Current balance is 5500\n",
      "100 is withdrawn. Current balance is 5400\n"
     ]
    }
   ],
   "source": [
    "\n",
    "# Create a class named `BankAccount` with private attributes `account_number` and `balance`. Add methods to deposit and withdraw money, and to check the balance. Create an object of the class and perform some operations.\n",
    "\n",
    "class BankAccount:\n",
    "    def __init__(self,account_number,balance):\n",
    "        self.account_number = account_number\n",
    "        self.balance = balance\n",
    "    def deposit(self,amount):\n",
    "        self.balance += amount\n",
    "        print(f\"{amount} is deposited. Current balance is {self.balance}\")\n",
    "    def withdraw(self,amount):\n",
    "        self.balance -= amount\n",
    "        print(f\"{amount} is withdrawn. Current balance is {self.balance}\")\n",
    "\n",
    "acc1 = BankAccount(12345,5000)\n",
    "acc1.deposit(500)\n",
    "acc1.withdraw(100)"
   ]
  },
  {
   "cell_type": "code",
   "execution_count": 12,
   "id": "a305bd68",
   "metadata": {},
   "outputs": [
    {
     "name": "stdout",
     "output_type": "stream",
     "text": [
      "Sourabh\n",
      "20\n",
      "122\n"
     ]
    }
   ],
   "source": [
    "## Create a base class named `Person` with attributes `name` and `age`. Create a derived class named `Employee` that inherits from `Person` and adds an attribute `employee_id`. Create an object of the derived class and print its attributes.\n",
    "class Person :\n",
    "    def __init__(self,name,age):\n",
    "        self.name = name\n",
    "        self.age = age\n",
    "class Employee(Person):\n",
    "    def __init__(self,name,age,employee_id):\n",
    "        super().__init__(name,age)\n",
    "        self.employee_id = employee_id\n",
    "emp1 = Employee(\"Sourabh\",20,122)\n",
    "print(emp1.name)\n",
    "print(emp1.age)\n",
    "print(emp1.employee_id)"
   ]
  },
  {
   "cell_type": "code",
   "execution_count": 3,
   "id": "dc6b31dc",
   "metadata": {},
   "outputs": [
    {
     "name": "stdout",
     "output_type": "stream",
     "text": [
      "Employee name is Sourabh and age is 20 with Emp id 121\n"
     ]
    }
   ],
   "source": [
    "# Problem:\n",
    "# Create a base class Person with attributes name and age.\n",
    "# Create a derived class Employee that adds an attribute emp_id.\n",
    "# Override the __str__() method to return a formatted string of the employee’s details.\n",
    "# Create an object and print it.\n",
    "\n",
    "class Person:\n",
    "    def __init__(self,name,age):\n",
    "        self.name = name\n",
    "        self.age = age\n",
    "class Employee(Person):\n",
    "    def __init__(self,name,age,emp_id):\n",
    "        super().__init__(name,age)\n",
    "        self.emp_id = emp_id\n",
    "    def __str__(self):\n",
    "        return f\"Employee name is {self.name} and age is {self.age} with Emp id {self.emp_id}\"\n",
    "emp1 = Employee(\"Sourabh\",20,121)\n",
    "def print_details(employee):\n",
    "    print(employee.__str__())\n",
    "print_details(emp1)"
   ]
  },
  {
   "cell_type": "code",
   "execution_count": null,
   "id": "a1d530cc",
   "metadata": {},
   "outputs": [
    {
     "name": "stdout",
     "output_type": "stream",
     "text": [
      "1000 is deposited, Current balance is 5000\n",
      "2300 withdrawn, Current balance is 2700\n"
     ]
    },
    {
     "ename": "AttributeError",
     "evalue": "'BankAccount' object has no attribute '__balance'",
     "output_type": "error",
     "traceback": [
      "\u001b[31m---------------------------------------------------------------------------\u001b[39m",
      "\u001b[31mAttributeError\u001b[39m                            Traceback (most recent call last)",
      "\u001b[36mCell\u001b[39m\u001b[36m \u001b[39m\u001b[32mIn[7]\u001b[39m\u001b[32m, line 22\u001b[39m\n\u001b[32m     20\u001b[39m account1.deposit(\u001b[32m1000\u001b[39m)\n\u001b[32m     21\u001b[39m account1.withdraw(\u001b[32m2300\u001b[39m)\n\u001b[32m---> \u001b[39m\u001b[32m22\u001b[39m \u001b[38;5;28mprint\u001b[39m(\u001b[43maccount1\u001b[49m\u001b[43m.\u001b[49m\u001b[43m__balance\u001b[49m)\n",
      "\u001b[31mAttributeError\u001b[39m: 'BankAccount' object has no attribute '__balance'"
     ]
    }
   ],
   "source": [
    "# Problem:\n",
    "# Create a class BankAccount with private attributes account_number and balance.\n",
    "# Add methods to deposit, withdraw, and check the balance.\n",
    "# Ensure the balance cannot be accessed or changed directly from outside the class.\n",
    "\n",
    "class BankAccount:\n",
    "    def __init__(self,account_number,balance):\n",
    "        self.__account_number = account_number\n",
    "        self.__balance = balance\n",
    "    def deposit(self,amount):\n",
    "        self.__balance += amount\n",
    "        print(f\"{amount} is deposited, Current balance is {self.__balance}\")\n",
    "    def withdraw(self,amount):\n",
    "        if amount > self.__balance:\n",
    "            return f\"Insufficient Funds\"\n",
    "        self.__balance -= amount\n",
    "        print(f\"{amount} withdrawn, Current balance is {self.__balance}\")\n",
    "\n",
    "account1 = BankAccount(1234,4000)\n",
    "account1.deposit(1000)\n",
    "account1.withdraw(2300)\n",
    "print(account1.__balance) ## Balance is not accessible outside the class"
   ]
  },
  {
   "cell_type": "code",
   "execution_count": null,
   "id": "592f5949",
   "metadata": {},
   "outputs": [
    {
     "name": "stdout",
     "output_type": "stream",
     "text": [
      "Sourabh\n",
      "20\n",
      "ABC\n",
      "New Delhi\n",
      "111111\n"
     ]
    }
   ],
   "source": [
    "## Problem:\n",
    "# Create a class Address with attributes street, city, and zipcode.\n",
    "# Then, create a class Person that includes an Address object as an attribute.\n",
    "# Create an object of the Person class and print the full address.\n",
    "\n",
    "class Address:\n",
    "    def __init__(self,street,city,zipcode):\n",
    "        self.street = street\n",
    "        self.city = city\n",
    "        self.zipcode = zipcode\n",
    "home = Address(\"ABC\",\"New Delhi\",\"111111\")\n",
    "class Person:\n",
    "    def __init__(self,name,age):\n",
    "        self.name = name\n",
    "        self.age = age\n",
    "        self.address = home\n",
    "person1 = Person(\"Sourabh\",20)\n",
    "print(person1.name)\n",
    "print(person1.age)\n",
    "print(person1.address.street)\n",
    "print(person1.address.city)\n",
    "print(person1.address.zipcode)\n",
    "        "
   ]
  },
  {
   "cell_type": "code",
   "execution_count": 7,
   "id": "a2f125de",
   "metadata": {},
   "outputs": [
    {
     "name": "stdout",
     "output_type": "stream",
     "text": [
      "The current balance is : 5000\n",
      "Insufficient Balance\n"
     ]
    }
   ],
   "source": [
    "## Problem:\n",
    "# Create a class BankAccount with private attribute `balance`.\n",
    "# Use @property to get the balance, and @setter to update it.\n",
    "# Ensure the balance cannot be set to a negative value.\n",
    "class BankAccount:\n",
    "    def __init__(self,balance):\n",
    "        self.__balance = balance\n",
    "    @property\n",
    "    def balance(self):\n",
    "        return f\"The current balance is : {self.__balance}\"\n",
    "    @balance.setter\n",
    "    def balance(self,amount):\n",
    "        if amount > self.__balance:\n",
    "            print('Insufficient Balance')\n",
    "        else:\n",
    "            self.__balance -= amount\n",
    "            print(self.__balance)\n",
    "\n",
    "acc1 = BankAccount(5000)\n",
    "print(acc1.balance)\n",
    "acc1.balance = 20000"
   ]
  },
  {
   "cell_type": "code",
   "execution_count": 9,
   "id": "2fef7a56",
   "metadata": {},
   "outputs": [
    {
     "name": "stdout",
     "output_type": "stream",
     "text": [
      "Bike Engine started\n",
      "Car engine Started\n"
     ]
    }
   ],
   "source": [
    "# Problem:\n",
    "# 1. Create an abstract base class named `Vehicle` with an abstract method `start_engine()`.\n",
    "# 2. Create two subclasses: `Car` and `Bike`, and implement the `start_engine()` method in both.\n",
    "# 3. Create objects of `Car` and `Bike`, and call their `start_engine()` methods.\n",
    "\n",
    "from abc import ABC,abstractmethod\n",
    "\n",
    "class Vehicle(ABC):\n",
    "    @abstractmethod\n",
    "    def start_engine(self):\n",
    "        pass\n",
    "class Car(Vehicle):\n",
    "    def start_engine(self):\n",
    "        print(\"Car engine Started\")\n",
    "class Bike(Vehicle):\n",
    "    def start_engine(self):\n",
    "        print(\"Bike Engine started\")\n",
    "def engine(vehicle):\n",
    "    vehicle.start_engine()\n",
    "bike1 = Bike()\n",
    "car1 = Car()\n",
    "engine(bike1)\n",
    "engine(car1)"
   ]
  },
  {
   "cell_type": "code",
   "execution_count": null,
   "id": "2edaf292",
   "metadata": {},
   "outputs": [
    {
     "name": "stdout",
     "output_type": "stream",
     "text": [
      "The area of is 1385.442360233099\n",
      "The area of is 16\n"
     ]
    }
   ],
   "source": [
    "# Problem:\n",
    "# 1. Create a base class `Shape` with a method `area()`.\n",
    "# 2. Create two subclasses: `Circle` and `Square`, each overriding the `area()` method.\n",
    "# 3. Create a function `describe_shape(shape)` that takes a `Shape` object and calls its `area()` method.\n",
    "# 4. Create objects of `Circle` and `Square`, and pass them to the function to demonstrate polymorphism.\n",
    "from math import pi\n",
    "class Shape:\n",
    "    def area(self):\n",
    "        print(\"The area will be calculated here\")\n",
    "class Circle(Shape):\n",
    "    def __init__(self,radius):\n",
    "        self.radius = radius\n",
    "    def area(self):\n",
    "        return pi*self.radius*self.radius\n",
    "class Square(Shape):\n",
    "    def __init__(self,side):\n",
    "        self.side = side\n",
    "    def area(self):\n",
    "        return self.side*self.side\n",
    "    \n",
    "def describe_shape(shape):\n",
    "    print(f\"The area of is {shape.area()}\")\n",
    "\n",
    "cir = Circle(21)\n",
    "sqr = Square(4)\n",
    "describe_shape(cir)\n",
    "describe_shape(sqr)"
   ]
  },
  {
   "cell_type": "code",
   "execution_count": 23,
   "id": "b98e44a9",
   "metadata": {},
   "outputs": [
    {
     "name": "stdout",
     "output_type": "stream",
     "text": [
      "Vector(6,10)\n",
      "Vector(-2,-4)\n",
      "False\n",
      "Vector(2,3)\n",
      "Vector(4,7)\n"
     ]
    }
   ],
   "source": [
    "# Problem:\n",
    "# 1. Create a class `Vector` with attributes `x` and `y`.\n",
    "# 2. Overload the `+`, `-`, and `==` operators:\n",
    "#    - `+` should add two vectors component-wise.\n",
    "#    - `-` should subtract two vectors component-wise.\n",
    "#    - `==` should return True if both vectors have the same x and y.\n",
    "# 3. Print the vector in a nice format using `__repr__`.\n",
    "# 4. Test your class by creating two vectors and performing all 3 operations.\n",
    "\n",
    "class Vector:\n",
    "    def __init__(self,x,y):\n",
    "        self.x = x\n",
    "        self.y = y\n",
    "    def __add__(self,other):\n",
    "        return Vector(self.x + other.x , self.y + other.y)\n",
    "    def __sub__(self,other):\n",
    "        return Vector(self.x - other.x , self.y - other.y)\n",
    "    def __eq__(self,other):\n",
    "        return self.x == other.x and self.y == other.y\n",
    "    def __repr__(self):\n",
    "        return f\"Vector({self.x},{self.y})\"\n",
    "v1 = Vector(2,3)\n",
    "v2 = Vector(4,7)\n",
    "print(v1 + v2)\n",
    "print(v1 - v2)\n",
    "print(v1 == v2)\n",
    "print(v1)\n",
    "print(v2)\n"
   ]
  },
  {
   "cell_type": "code",
   "execution_count": 28,
   "id": "7a38f26a",
   "metadata": {},
   "outputs": [
    {
     "name": "stdout",
     "output_type": "stream",
     "text": [
      "The salary is 50000\n",
      "The salary is 54000\n"
     ]
    }
   ],
   "source": [
    "# Problem:\n",
    "# 1. Create an abstract class `Employee` with an abstract method `calculate_salary()`.\n",
    "# 2. Create two subclasses:\n",
    "#    - `FullTimeEmployee` → takes `monthly_salary`\n",
    "#    - `PartTimeEmployee` → takes `hourly_rate` and `hours_worked`\n",
    "# 3. Each subclass should implement the `calculate_salary()` method.\n",
    "# 4. Create objects of both classes and print their calculated salaries.\n",
    "\n",
    "from abc import ABC, abstractmethod\n",
    "class Employee(ABC):\n",
    "    @abstractmethod\n",
    "    def calculate_salary(self):\n",
    "        pass\n",
    "class FullTimeEmployee(Employee):\n",
    "    def __init__(self,monthly_salary):\n",
    "        self.monthly_salary = monthly_salary\n",
    "    def calculate_salary(self):\n",
    "        return f\"The salary is {self.monthly_salary}\"\n",
    "class PartTimeEmployee(Employee):\n",
    "    def __init__(self,hourly_rate,hours_worked):\n",
    "        self.hourly_rate = hourly_rate\n",
    "        self.hours_worked = hours_worked\n",
    "    def calculate_salary(self):\n",
    "        return f\"The salary is {self.hourly_rate * self.hours_worked}\"\n",
    "person1 = FullTimeEmployee(50000)\n",
    "person2 = PartTimeEmployee(1200,45)\n",
    "print(person1.calculate_salary())\n",
    "print(person2.calculate_salary())"
   ]
  },
  {
   "cell_type": "code",
   "execution_count": 33,
   "id": "50952136",
   "metadata": {},
   "outputs": [
    {
     "name": "stdout",
     "output_type": "stream",
     "text": [
      "Transaction Failed :  Not Enough Balance\n"
     ]
    }
   ],
   "source": [
    "# Problem:\n",
    "# Create a custom exception class called `InsufficientBalanceError`.\n",
    "# In a `BankAccount` class, raise this exception when a withdrawal exceeds the balance.\n",
    "# Handle the exception and print an appropriate error message.\n",
    "\n",
    "class InsufficientBalanceError(Exception):\n",
    "    pass\n",
    "class BankAccount:\n",
    "    def __init__(self,balance):\n",
    "        self.balance = balance\n",
    "    def withdraw(self,amount):\n",
    "        if amount > self.balance:\n",
    "            raise InsufficientBalanceError(\"Not Enough Balance\")\n",
    "        else:\n",
    "            self.balance -= amount\n",
    "            return f\"{amount} withdrawn\"\n",
    "bank1 = BankAccount(10000)\n",
    "try : \n",
    "    bank1.withdraw(20000)\n",
    "except InsufficientBalanceError as e:\n",
    "    print(\"Transaction Failed : \",e)"
   ]
  },
  {
   "cell_type": "code",
   "execution_count": 45,
   "id": "0b3df3f9",
   "metadata": {},
   "outputs": [
    {
     "name": "stdout",
     "output_type": "stream",
     "text": [
      "Lorem Ipsum is simply dummy text of the printing and typesetting industry. Lorem Ipsum has been the industry's standard dummy text ever since the 1500s, when an unknown printer took a galley of type and scrambled it to make a type specimen book. It has survived not only five centuries, but also the leap into electronic typesetting, remaining essentially unchanged. It was popularised in the 1960s with the release of Letraset sheets containing Lorem Ipsum passages, and more recently with desktop publishing software like Aldus PageMaker including versions of Lorem Ipsum.\n",
      "\n",
      "\n"
     ]
    }
   ],
   "source": [
    "# Problem:\n",
    "# Create a class `FileManager` that acts as a context manager.\n",
    "# It should open a file in `__enter__` and close it in `__exit__`.\n",
    "# Use it with a `with` statement to read contents from a file and print them.\n",
    "class FileManager:\n",
    "    def __init__(self,filename):\n",
    "        self.filename = filename\n",
    "        self.file = None\n",
    "    def __enter__(self):\n",
    "        try:\n",
    "            self.file = open(self.filename,'r') \n",
    "            return self.file\n",
    "        except FileNotFoundError as e:\n",
    "            print(\"File not found : \",e)\n",
    "            return None\n",
    "    def __exit__(self,exc_type,exc_val,exc_tb):\n",
    "        if exc_type:\n",
    "            print(\"Error Occurred : \",exc_val)\n",
    "        if f != None : \n",
    "            self.file.close()\n",
    "with FileManager(\"data.txt\") as f:\n",
    "    if f: \n",
    "        print(f.read())"
   ]
  },
  {
   "cell_type": "code",
   "execution_count": 7,
   "id": "c246b792",
   "metadata": {},
   "outputs": [
    {
     "name": "stdout",
     "output_type": "stream",
     "text": [
      "-30.0\n"
     ]
    }
   ],
   "source": [
    "# #Problem: Calculator with Method Chaining\n",
    "# Create a class Calculator that maintains a running result (default to 0).\n",
    "# Implement the following methods:\n",
    "# add(number) → adds number to result\n",
    "# subtract(number) → subtracts number from result\n",
    "# multiply(number) → multiplies result by number\n",
    "# divide(number) → divides result by number, handle division by zero\n",
    "# All methods should return self to allow method chaining\n",
    "# Add a method .result() to return the final value\n",
    "class Calculator:\n",
    "    def __init__(self):\n",
    "        self.result = 0\n",
    "    def add(self,num):\n",
    "        self.result += num\n",
    "        return self\n",
    "    def sub(self,num):\n",
    "        self.result -= num\n",
    "        return self\n",
    "    def mult(self,num):\n",
    "        self.result *= num\n",
    "        return self\n",
    "    def div(self,num):\n",
    "        self.result /= num\n",
    "        return self\n",
    "    def value(self):\n",
    "        return self.result\n",
    "cal = Calculator()\n",
    "ans = cal.add(10).sub(20).mult(30).div(10).value()\n",
    "print(ans)"
   ]
  },
  {
   "cell_type": "code",
   "execution_count": 17,
   "id": "8fdd0717",
   "metadata": {},
   "outputs": [
    {
     "name": "stdout",
     "output_type": "stream",
     "text": [
      "800W\n",
      "300W\n"
     ]
    }
   ],
   "source": [
    "# Create an abstract base class called Appliance using abc.ABC\n",
    "# Inside it, define an abstract property called power (not a method!)\n",
    "# Create two subclasses:\n",
    "# WashingMachine\n",
    "# Refrigerator\n",
    "# Implement the power property in each subclass to return custom wattage (e.g., 800W, 300W)\n",
    "# Create objects of each class and access their .power property.\n",
    "\n",
    "from abc import ABC , abstractmethod\n",
    "\n",
    "class Appliance(ABC):\n",
    "    @property\n",
    "    @abstractmethod\n",
    "    def power(self):\n",
    "        pass\n",
    "class WashingMachine(Appliance):\n",
    "    @property\n",
    "    def power(self):\n",
    "        return \"800W\"\n",
    "class Refrigerator(Appliance):\n",
    "    @property\n",
    "    def power(self):\n",
    "        return \"300W\"\n",
    "ap1 = WashingMachine()\n",
    "ap2 = Refrigerator()\n",
    "def details(appliance):\n",
    "    print(appliance.power)\n",
    "details(ap1)\n",
    "details(ap2)"
   ]
  },
  {
   "cell_type": "code",
   "execution_count": 25,
   "id": "00f6fdbf",
   "metadata": {},
   "outputs": [
    {
     "name": "stdout",
     "output_type": "stream",
     "text": [
      "20000 in account 12121\n",
      "200 withdrawn, current balance is 19800\n",
      "The account details are : 19800 in account 12121 and interest rate is 8\n"
     ]
    }
   ],
   "source": [
    "# ✅ Problem Statement:\n",
    "# Create a base class named Account with:\n",
    "# Private attributes: account_number, balance\n",
    "# Getter/setter methods to access/update them\n",
    "# Then create a derived class SavingsAccount that adds:\n",
    "# A new attribute interest_rate\n",
    "# Finally:\n",
    "# Create an object of SavingsAccount\n",
    "# Use methods to access and modify values\n",
    "# Print all the details neatly\n",
    "class Account:\n",
    "    def __init__(self,account_number,balance):\n",
    "        self.__account_number = account_number\n",
    "        self.__balance = balance\n",
    "    def getter(self):\n",
    "        return f\"{self.__balance} in account {self.__account_number}\"\n",
    "    def setter(self,amount):\n",
    "        if amount > self.__balance:\n",
    "            return \"Insufficient Funds\"\n",
    "        self.__balance -= amount\n",
    "        return f\"{amount} withdrawn, current balance is {self.__balance}\"\n",
    "class SavingsAccount(Account):\n",
    "    def __init__(self,account_number,balance,interest_rate):\n",
    "        super().__init__(account_number,balance)\n",
    "        self.interest_rate = interest_rate\n",
    "    def __repr__(self):\n",
    "        acc = self.getter()\n",
    "        return (f\"The account details are : {acc} and interest rate is {self.interest_rate}\")\n",
    "    \n",
    "sva = SavingsAccount(12121,20000,8)\n",
    "print(sva.getter())\n",
    "print(sva.setter(200))\n",
    "print(sva)\n"
   ]
  },
  {
   "cell_type": "code",
   "execution_count": 4,
   "id": "14edd57e",
   "metadata": {},
   "outputs": [
    {
     "name": "stdout",
     "output_type": "stream",
     "text": [
      "Meow\n",
      "Woof\n",
      "Meow\n"
     ]
    }
   ],
   "source": [
    "# Problem:\n",
    "# 1. Create a base class named `Animal` with a method `speak()`.\n",
    "# 2. Create two derived classes: `Dog` and `Cat`, and override the `speak()` method.\n",
    "# 3. Create a list of Animal objects (`Dog`, `Cat`) and call `speak()` on each to demonstrate polymorphism.\n",
    "\n",
    "class Animal:\n",
    "    def speak(self):\n",
    "        pass\n",
    "class Dog(Animal):\n",
    "    def speak(self):\n",
    "        return \"Woof\"\n",
    "class Cat(Animal):\n",
    "    def speak(self):\n",
    "        return \"Meow\"\n",
    "animals = [Cat(),Dog(),Cat()]\n",
    "for animal in animals:\n",
    "    print(animal.speak())"
   ]
  },
  {
   "cell_type": "code",
   "execution_count": 7,
   "id": "cb79b282",
   "metadata": {},
   "outputs": [
    {
     "name": "stdout",
     "output_type": "stream",
     "text": [
      "It can Fly\n",
      "It can swim\n"
     ]
    }
   ],
   "source": [
    "# Problem:\n",
    "# 1. Create a class `Flyer` with a method `fly()`.\n",
    "# 2. Create a class `Swimmer` with a method `swim()`.\n",
    "# 3. Create a class `Superhero` that inherits from both and overrides both methods.\n",
    "# 4. Create an object of `Superhero` and call both methods.\n",
    "\n",
    "class Flyer:\n",
    "    def fly(self):\n",
    "        pass\n",
    "class Swimmer:\n",
    "    def swim(self):\n",
    "        pass\n",
    "class Superhero(Flyer,Swimmer):\n",
    "    def fly(self):\n",
    "        return \"It can Fly\"\n",
    "    def swim(self):\n",
    "        return \"It can swim\"\n",
    "sh = Superhero()\n",
    "print(sh.fly())\n",
    "print(sh.swim())"
   ]
  },
  {
   "cell_type": "code",
   "execution_count": 9,
   "id": "07ef5578",
   "metadata": {},
   "outputs": [
    {
     "name": "stdout",
     "output_type": "stream",
     "text": [
      "Research\n"
     ]
    }
   ],
   "source": [
    "# Problem:\n",
    "# 1. Create an abstract base class `Worker` with an abstract method `work()`.\n",
    "# 2. Create two derived classes `Engineer` and `Doctor`, and implement the `work()` method in each.\n",
    "# 3. Create another derived class `Scientist` that inherits from both `Engineer` and `Doctor`.\n",
    "# 4. Create an object of `Scientist` and call the `work()` method.\n",
    "#    Observe the method resolution and behavior.\n",
    "\n",
    "from abc import ABC,abstractmethod\n",
    "\n",
    "class Worker(ABC):\n",
    "    @abstractmethod\n",
    "    def work(self):\n",
    "        pass\n",
    "class Engineer(Worker):\n",
    "    def work(self):\n",
    "        return \"Coding\"\n",
    "class Doctor(Worker):\n",
    "    def work(self):\n",
    "        return \"Surgery\"\n",
    "class Scientist(Doctor,Engineer):\n",
    "    def work(self):\n",
    "        return \"Research\"\n",
    "sc1 = Scientist()\n",
    "print(sc1.work())"
   ]
  }
 ],
 "metadata": {
  "kernelspec": {
   "display_name": "Python 3",
   "language": "python",
   "name": "python3"
  },
  "language_info": {
   "codemirror_mode": {
    "name": "ipython",
    "version": 3
   },
   "file_extension": ".py",
   "mimetype": "text/x-python",
   "name": "python",
   "nbconvert_exporter": "python",
   "pygments_lexer": "ipython3",
   "version": "3.13.0"
  }
 },
 "nbformat": 4,
 "nbformat_minor": 5
}
