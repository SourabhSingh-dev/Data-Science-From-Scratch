{
 "cells": [
  {
   "cell_type": "code",
   "execution_count": 11,
   "id": "fe9da096",
   "metadata": {},
   "outputs": [
    {
     "name": "stdout",
     "output_type": "stream",
     "text": [
      "5\n",
      "4\n",
      "3\n",
      "2\n",
      "1\n",
      "0\n"
     ]
    }
   ],
   "source": [
    "# 📝 Problem Statement:\n",
    "# Create a class Countdown that:\n",
    "# Takes an integer start on initialization.\n",
    "# Implements __iter__() and __next__()\n",
    "# Returns numbers from start to 0 (inclusive) on each call to next().\n",
    "# Raises StopIteration when done.\n",
    "class Countdown:\n",
    "    def __init__(self,integer):\n",
    "        self.integer = integer\n",
    "    def __iter__(self):\n",
    "        return self\n",
    "    def __next__(self):\n",
    "        if self.integer < 0:\n",
    "            raise StopIteration\n",
    "        value = self.integer\n",
    "        self.integer -= 1\n",
    "        return value\n",
    "for i in Countdown(5):\n",
    "    print(i)"
   ]
  },
  {
   "cell_type": "code",
   "execution_count": 20,
   "id": "b9a806e4",
   "metadata": {},
   "outputs": [
    {
     "name": "stdout",
     "output_type": "stream",
     "text": [
      "3\n",
      "4\n",
      "5\n",
      "6\n"
     ]
    }
   ],
   "source": [
    "# 📝 Problem Statement:\n",
    "# Create a class MyRange(start, stop) that:\n",
    "# Stores current value, start, and stop\n",
    "# Implements the iteration protocol to yield values from start to stop - 1.\n",
    "\n",
    "class MyRange:\n",
    "    def __init__(self,start,stop):\n",
    "        self.start = start\n",
    "        self.stop = stop\n",
    "    def __iter__(self):\n",
    "        return self\n",
    "    def __next__(self):\n",
    "        if self.start >= self.stop:\n",
    "            raise StopIteration\n",
    "        value = self.start\n",
    "        self.start += 1\n",
    "        return value\n",
    "for num in MyRange(3,7):\n",
    "    print(num)\n"
   ]
  },
  {
   "cell_type": "code",
   "execution_count": 24,
   "id": "daa9be75",
   "metadata": {},
   "outputs": [
    {
     "name": "stdout",
     "output_type": "stream",
     "text": [
      "0\n",
      "1\n",
      "1\n",
      "2\n",
      "3\n",
      "5\n"
     ]
    }
   ],
   "source": [
    "#Write a generator function fibonacci(n) that yields the first n Fibonacci numbers.\n",
    "def fibonacci(n):\n",
    "    first = 0\n",
    "    second = 1\n",
    "    count = 0\n",
    "    while count<=n:\n",
    "        yield first\n",
    "        first , second = second, first + second\n",
    "        count += 1\n",
    "for num in fibonacci(5):\n",
    "    print(num)"
   ]
  },
  {
   "cell_type": "markdown",
   "id": "1c8d2ea3",
   "metadata": {},
   "source": [
    "# Will Visit Advance Python again after section 24 of course i.e Feature Engineering.\n",
    "### As currently I am not finding it useful.But in reality they are useful or more specifically crucial. "
   ]
  }
 ],
 "metadata": {
  "kernelspec": {
   "display_name": "Python 3",
   "language": "python",
   "name": "python3"
  },
  "language_info": {
   "codemirror_mode": {
    "name": "ipython",
    "version": 3
   },
   "file_extension": ".py",
   "mimetype": "text/x-python",
   "name": "python",
   "nbconvert_exporter": "python",
   "pygments_lexer": "ipython3",
   "version": "3.13.0"
  }
 },
 "nbformat": 4,
 "nbformat_minor": 5
}
