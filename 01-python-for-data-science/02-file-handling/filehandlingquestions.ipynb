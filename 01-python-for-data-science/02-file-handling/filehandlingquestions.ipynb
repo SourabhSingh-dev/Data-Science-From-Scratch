{
 "cells": [
  {
   "cell_type": "markdown",
   "metadata": {},
   "source": [
    "# Module: File Handling Assignments\n",
    "## Lesson: File Handling and Operations\n",
    "### Assignment 1: Reading a File\n",
    "\n",
    "Write a function that reads the contents of a file named `sample.txt` and prints each line.\n",
    "\n",
    "### Assignment 2: Writing to a File\n",
    "\n",
    "Write a function that writes a list of strings to a file named `output.txt`, with each string on a new line.\n",
    "\n",
    "### Assignment 3: Copying a File\n",
    "\n",
    "Write a function that copies the contents of a file named `source.txt` to a new file named `destination.txt`.\n",
    "\n",
    "### Assignment 4: Appending to a File\n",
    "\n",
    "Write a function that appends a given string to the end of a file named `log.txt`.\n",
    "\n",
    "### Assignment 5: Counting Words in a File\n",
    "\n",
    "Write a function that reads the contents of a file named `document.txt` and returns the number of words in the file."
   ]
  },
  {
   "cell_type": "code",
   "execution_count": 2,
   "metadata": {},
   "outputs": [
    {
     "name": "stdout",
     "output_type": "stream",
     "text": [
      "Hello\n",
      "This is a sample file\n",
      "Byy\n"
     ]
    }
   ],
   "source": [
    "#Write a function that reads the contents of a file named `sample.txt` and prints each line.\n",
    "with open(\"sample.txt\", 'r') as file:\n",
    "    content = file.read()\n",
    "    print(content)"
   ]
  },
  {
   "cell_type": "code",
   "execution_count": 4,
   "id": "142ca8a8",
   "metadata": {},
   "outputs": [],
   "source": [
    "# Write a function that writes a list of strings to a file named `output.txt`, with each string on a new line.\n",
    "lst = [\"Hello there\\n\",\"How are you\\n\",\"This is a output file\\n\"]\n",
    "with open(\"output.txt\",'w') as file:\n",
    "    file.writelines(lst)"
   ]
  },
  {
   "cell_type": "code",
   "execution_count": 5,
   "id": "36f72435",
   "metadata": {},
   "outputs": [],
   "source": [
    "# Write a function that copies the contents of a file named `source.txt` to a new file named `destination.txt`.\n",
    "with open(\"source.txt\",'r') as file:\n",
    "    content = file.read()\n",
    "with open(\"destination.txt\",'w') as file:\n",
    "    file.write(content)"
   ]
  },
  {
   "cell_type": "code",
   "execution_count": 7,
   "id": "d7e755c5",
   "metadata": {},
   "outputs": [],
   "source": [
    "# Write a function that appends a given string to the end of a file named `log.txt`.\n",
    "string = \"\\nThis text is due to Append Operation\"\n",
    "with open(\"log.txt\",'a') as file:\n",
    "    file.write(string)"
   ]
  },
  {
   "cell_type": "code",
   "execution_count": null,
   "id": "ad3a7bd5",
   "metadata": {},
   "outputs": [
    {
     "name": "stdout",
     "output_type": "stream",
     "text": [
      "Total number of words : 131\n"
     ]
    }
   ],
   "source": [
    "# Write a function that reads the contents of a file named `document.txt` and returns the number of words in the file.\n",
    "with open(\"documents.txt\" , 'r') as file:\n",
    "    total = 0\n",
    "    for line in file:\n",
    "        lst_words = line.split()\n",
    "        total += len(lst_words)\n",
    "    print(f\"Total number of words : {total}\")"
   ]
  }
 ],
 "metadata": {
  "kernelspec": {
   "display_name": "Python 3",
   "language": "python",
   "name": "python3"
  },
  "language_info": {
   "codemirror_mode": {
    "name": "ipython",
    "version": 3
   },
   "file_extension": ".py",
   "mimetype": "text/x-python",
   "name": "python",
   "nbconvert_exporter": "python",
   "pygments_lexer": "ipython3",
   "version": "3.13.0"
  }
 },
 "nbformat": 4,
 "nbformat_minor": 5
}
