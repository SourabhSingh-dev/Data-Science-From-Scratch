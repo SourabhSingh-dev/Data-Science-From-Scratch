{
 "cells": [
  {
   "cell_type": "markdown",
   "metadata": {},
   "source": [
    "# Module 5: Modules and Packages Assignments\n",
    "## Lesson 5.1: Importing Modules\n",
    "### Assignment 1: Importing and Using Modules\n",
    "\n",
    "Import the `math` module and use it to calculate the square root of 25 and the sine of 90.\n",
    "\n",
    "### Assignment 2: Aliasing Modules\n",
    "\n",
    "Import the `datetime` module with an alias and use it to print the current date and time.\n",
    "\n",
    "### Assignment 3: Importing Specific Functions\n",
    "\n",
    "Import the `randint` function from the `random` module and use it to generate a random integer between 1 and 100.\n",
    "\n",
    "### Assignment 4: Importing Multiple Functions\n",
    "\n",
    "Import the `sqrt` and `pow` functions from the `math` module and use them to calculate the square root of 16 and 2 raised to the power of 3.\n",
    "\n",
    "### Assignment 5: Handling Import Errors\n",
    "\n",
    "Write code that attempts to import a non-existent module and gracefully handles the import error by printing an error message.\n",
    "\n",
    "## Lesson 5.2: Standard Library Overview\n",
    "### Assignment 6: Working with the `os` Module\n",
    "\n",
    "Use the `os` module to create a new directory, list the contents of the current directory.\n",
    "\n",
    "## Lesson 5.3: Creating and Using Packages\n",
    "### Assignment 7: Creating a Simple Package\n",
    "\n",
    "Create a package named `mypackage` with two modules: `module1` and `module2`. `module1` should contain a function that adds two numbers, and `module2` should contain a function that multiplies two numbers. Write code to use these functions.\n",
    "\n",
    "### Assignment 8: Relative Imports\n",
    "\n",
    "Create a subpackage named `subpackage` within `mypackage` and move `module2` into `subpackage`. Modify the import statements in `__init__.py` to use relative imports. Write code to use the functions from both modules."
   ]
  },
  {
   "cell_type": "code",
   "execution_count": 3,
   "metadata": {},
   "outputs": [
    {
     "name": "stdout",
     "output_type": "stream",
     "text": [
      "5.0\n",
      "0.8939966636005579\n"
     ]
    }
   ],
   "source": [
    "#Import the `math` module and use it to calculate the square root of 25 and the sine of 90.\n",
    "\n",
    "import math\n",
    "num = 25\n",
    "print(math.sqrt(num))\n",
    "print(math.sin(90))"
   ]
  },
  {
   "cell_type": "code",
   "execution_count": 6,
   "id": "d3f05683",
   "metadata": {},
   "outputs": [
    {
     "name": "stdout",
     "output_type": "stream",
     "text": [
      "2025-06-20 10:54:08.416705\n"
     ]
    }
   ],
   "source": [
    "#Import the `datetime` module with an alias and use it to print the current date and time.\n",
    "\n",
    "import datetime as dt\n",
    "current = dt.datetime.now()\n",
    "print(current)"
   ]
  },
  {
   "cell_type": "code",
   "execution_count": 9,
   "id": "8daac61d",
   "metadata": {},
   "outputs": [
    {
     "name": "stdout",
     "output_type": "stream",
     "text": [
      "13\n"
     ]
    }
   ],
   "source": [
    "#Import the `randint` function from the `random` module and use it to generate a random integer between 1 and 100.\n",
    "from random import randint\n",
    "print(randint(1,100))"
   ]
  },
  {
   "cell_type": "code",
   "execution_count": 10,
   "id": "d22bd9c5",
   "metadata": {},
   "outputs": [
    {
     "name": "stdout",
     "output_type": "stream",
     "text": [
      "4.0\n",
      "8.0\n"
     ]
    }
   ],
   "source": [
    "#Import the `sqrt` and `pow` functions from the `math` module and use them to calculate the square root of 16 and 2 raised to the power of 3.\n",
    "\n",
    "from math import sqrt,pow\n",
    "print(sqrt(16))\n",
    "print(pow(2,3))"
   ]
  },
  {
   "cell_type": "code",
   "execution_count": 11,
   "id": "775cdfc9",
   "metadata": {},
   "outputs": [
    {
     "name": "stdout",
     "output_type": "stream",
     "text": [
      "Module Not found, Please check the module name\n"
     ]
    }
   ],
   "source": [
    "#Write code that attempts to import a non-existent module and gracefully handles the import error by printing an error message.\n",
    "\n",
    "try:\n",
    "    import swfw\n",
    "except:\n",
    "    print(\"Module Not found, Please check the module name\")"
   ]
  },
  {
   "cell_type": "code",
   "execution_count": null,
   "id": "c8afb9ee",
   "metadata": {},
   "outputs": [
    {
     "data": {
      "text/plain": [
       "['Testing', 'packagesquestion.ipynb']"
      ]
     },
     "execution_count": 28,
     "metadata": {},
     "output_type": "execute_result"
    }
   ],
   "source": [
    "#Use the `os` module to create a new directory, list the contents of the current directory.\n",
    "\n",
    "import os\n",
    "os.mkdir(\"Testing\")\n",
    "os.listdir('.')\n",
    "# os.rmdir(\"Testing\")"
   ]
  },
  {
   "cell_type": "code",
   "execution_count": 29,
   "id": "50d2c31a",
   "metadata": {},
   "outputs": [
    {
     "name": "stdout",
     "output_type": "stream",
     "text": [
      "7\n",
      "12\n"
     ]
    }
   ],
   "source": [
    "# Create a package named `mypackage` with two modules: `module1` and `module2`. `module1` should contain a function that adds two numbers, and `module2` should contain a function that multiplies two numbers. Write code to use these functions.\n",
    "\n",
    "from mypackage.module1 import add\n",
    "from mypackage.module2 import mult\n",
    "\n",
    "print(add(3,4))\n",
    "print(mult(3,4))"
   ]
  },
  {
   "cell_type": "code",
   "execution_count": 30,
   "id": "461e4aba",
   "metadata": {},
   "outputs": [
    {
     "name": "stdout",
     "output_type": "stream",
     "text": [
      "36\n"
     ]
    }
   ],
   "source": [
    "# Create a subpackage named `subpackage` within `mypackage` and move `module2` into `subpackage`. Modify the import statements in `__init__.py` to use relative imports. Write code to use the functions from both modules.\n",
    "from mypackage.subpackage.module2 import mult\n",
    "\n",
    "print(mult(4,9))"
   ]
  }
 ],
 "metadata": {
  "kernelspec": {
   "display_name": "venv",
   "language": "python",
   "name": "python3"
  },
  "language_info": {
   "codemirror_mode": {
    "name": "ipython",
    "version": 3
   },
   "file_extension": ".py",
   "mimetype": "text/x-python",
   "name": "python",
   "nbconvert_exporter": "python",
   "pygments_lexer": "ipython3",
   "version": "3.13.0"
  }
 },
 "nbformat": 4,
 "nbformat_minor": 5
}
