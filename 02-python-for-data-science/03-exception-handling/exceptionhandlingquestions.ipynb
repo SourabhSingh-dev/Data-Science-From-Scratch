{
 "cells": [
  {
   "cell_type": "markdown",
   "metadata": {},
   "source": [
    "# Module: Exception Handling Assignments\n",
    "## Lesson: Exception Handling with try, except, and finally\n",
    "### Assignment 1: Handling Division by Zero\n",
    "\n",
    "Write a function that takes two integers as input and returns their division. Use try, except, and finally blocks to handle division by zero and print an appropriate message.\n",
    "\n",
    "### Assignment 2: File Reading with Exception Handling\n",
    "\n",
    "Write a function that reads the contents of a file named `data.txt`. Use try, except, and finally blocks to handle file not found errors and ensure the file is properly closed.\n",
    "\n",
    "### Assignment 3: Handling Multiple Exceptions\n",
    "\n",
    "Write a function that takes a list of integers and returns their sum. Use try, except, and finally blocks to handle TypeError if a non-integer value is encountered and print an appropriate message.\n",
    "\n",
    "### Assignment 4: Exception Handling in User Input\n",
    "\n",
    "Write a function that prompts the user to enter an integer. Use try, except, and finally blocks to handle ValueError if the user enters a non-integer value and print an appropriate message.\n",
    "\n",
    "### Assignment 5: Exception Handling in Dictionary Access\n",
    "\n",
    "Write a function that takes a dictionary and a key as input and returns the value associated with the key. Use try, except, and finally blocks to handle KeyError if the key is not found in the dictionary and print an appropriate message.\n"
   ]
  },
  {
   "cell_type": "code",
   "execution_count": 4,
   "metadata": {},
   "outputs": [
    {
     "name": "stdout",
     "output_type": "stream",
     "text": [
      "division by zero\n",
      "Execution Completed\n"
     ]
    }
   ],
   "source": [
    "# Write a function that takes two integers as input and returns their division. Use try, except, and finally blocks to handle division by zero and print an appropriate message.\n",
    "def division(a,b):\n",
    "    try:\n",
    "        res = a/b\n",
    "        print(res)\n",
    "    except ZeroDivisionError as ex:\n",
    "        print(ex)\n",
    "    except Exception as ex1:\n",
    "        print(ex1)\n",
    "    finally:\n",
    "        print(\"Execution Completed\")\n",
    "division(4,0)"
   ]
  },
  {
   "cell_type": "code",
   "execution_count": 6,
   "id": "551dfcd3",
   "metadata": {},
   "outputs": [
    {
     "name": "stdout",
     "output_type": "stream",
     "text": [
      "Hello\n",
      "This is a data file.\n",
      "Byy\n",
      "File Closed\n"
     ]
    }
   ],
   "source": [
    "# Write a function that reads the contents of a file named `data.txt`. Use try, except, and finally blocks to handle file not found errors and ensure the file is properly closed.\n",
    "try :\n",
    "    with open('data.txt','r') as file:\n",
    "        content = file.read()\n",
    "        print(content)\n",
    "except FileNotFoundError as ex:\n",
    "    print(ex)\n",
    "finally :\n",
    "    if 'file' in locals() or not file.closed():\n",
    "        file.close()\n",
    "        print(\"File Closed\")"
   ]
  },
  {
   "cell_type": "code",
   "execution_count": 7,
   "id": "3b2cda1a",
   "metadata": {},
   "outputs": [
    {
     "name": "stdout",
     "output_type": "stream",
     "text": [
      "Non integer value detected\n",
      "Output :  10\n"
     ]
    }
   ],
   "source": [
    "# Write a function that takes a list of integers and returns their sum. Use try, except, and finally blocks to handle TypeError if a non-integer value is encountered and print an appropriate message.\n",
    "def list_sum(lst1):\n",
    "    sum = 0\n",
    "    for element in lst1:\n",
    "        try :\n",
    "            sum += element\n",
    "        except TypeError as ex:\n",
    "            print(\"Non integer value detected\")\n",
    "        except Exception as ex1:\n",
    "            print(ex1)\n",
    "    return sum\n",
    "if __name__ == \"__main__\":\n",
    "    sample_input = [1,2,3,4,\"Sourabh\"]\n",
    "    print(\"Output : \",list_sum(sample_input))"
   ]
  },
  {
   "cell_type": "code",
   "execution_count": 8,
   "id": "040a4d97",
   "metadata": {},
   "outputs": [
    {
     "name": "stdout",
     "output_type": "stream",
     "text": [
      "Please enter an integral value\n",
      "Thank You\n"
     ]
    }
   ],
   "source": [
    "# Write a function that prompts the user to enter an integer. Use try, except, and finally blocks to handle ValueError if the user enters a non-integer value and print an appropriate message.\n",
    "try : \n",
    "    num = int(input(\"Enter the number : \"))\n",
    "except ValueError as ex:\n",
    "    print(\"Please enter an integral value\")\n",
    "finally:\n",
    "    print(\"Thank You\")"
   ]
  },
  {
   "cell_type": "code",
   "execution_count": 10,
   "id": "f1f571b0",
   "metadata": {},
   "outputs": [
    {
     "name": "stdout",
     "output_type": "stream",
     "text": [
      "Key not found\n"
     ]
    }
   ],
   "source": [
    "# Write a function that takes a dictionary and a key as input and returns the value associated with the key. Use try, except, and finally blocks to handle KeyError if the key is not found in the dictionary and print an appropriate message.\n",
    "def dict_key_value(dict1,key):\n",
    "    try :\n",
    "        print(f\"The value associate with {key} is {dict1[key]}\")\n",
    "    except Exception as ex:\n",
    "        print(\"Key not found\")\n",
    "dct = {\n",
    "    \"name\" : \"Sourabh Singh\",\n",
    "    \"age\" : 20\n",
    "}\n",
    "dict_key_value(dct,\"city\")"
   ]
  }
 ],
 "metadata": {
  "kernelspec": {
   "display_name": "Python 3",
   "language": "python",
   "name": "python3"
  },
  "language_info": {
   "codemirror_mode": {
    "name": "ipython",
    "version": 3
   },
   "file_extension": ".py",
   "mimetype": "text/x-python",
   "name": "python",
   "nbconvert_exporter": "python",
   "pygments_lexer": "ipython3",
   "version": "3.13.0"
  }
 },
 "nbformat": 4,
 "nbformat_minor": 5
}
