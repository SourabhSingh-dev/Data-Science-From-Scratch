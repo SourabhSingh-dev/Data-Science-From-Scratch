{
 "cells": [
  {
   "cell_type": "code",
   "execution_count": 1,
   "metadata": {},
   "outputs": [
    {
     "name": "stdout",
     "output_type": "stream",
     "text": [
      "Audi\n",
      "202\n",
      "2025\n"
     ]
    }
   ],
   "source": [
    "# Create a class named `Car` with attributes `make`, `model`, and `year`. Create an object of the class and print its attributes.\n",
    "\n",
    "class Car:\n",
    "    def __init__(self,make,model,year):\n",
    "        self.make = make\n",
    "        self.model = model\n",
    "        self.year = year\n",
    "audi = Car(\"Audi\",202,2025)\n",
    "print(audi.make)\n",
    "print(audi.model)\n",
    "print(audi.year)"
   ]
  },
  {
   "cell_type": "code",
   "execution_count": 8,
   "id": "63bca499",
   "metadata": {},
   "outputs": [
    {
     "name": "stdout",
     "output_type": "stream",
     "text": [
      "Engine Started\n"
     ]
    }
   ],
   "source": [
    "#Add a method named `start_engine` to the `Car` class that prints a message when the engine starts. Create an object of the class and call the method.\n",
    "\n",
    "class Car:\n",
    "    def __init__(self,make,model,year):\n",
    "        self.make = make\n",
    "        self.model = model\n",
    "        self.year = year\n",
    "    def start_engine(self):\n",
    "        print('Engine Started')\n",
    "bmw = Car(\"BMW\",101,2021)\n",
    "bmw.start_engine()"
   ]
  },
  {
   "cell_type": "code",
   "execution_count": 9,
   "id": "d4099c72",
   "metadata": {},
   "outputs": [
    {
     "name": "stdout",
     "output_type": "stream",
     "text": [
      "ABC\n",
      "20\n"
     ]
    }
   ],
   "source": [
    "# Create a class named `Student` with attributes `name` and `age`. Use a constructor to initialize these attributes. Create an object of the class and print its attributes.\n",
    "\n",
    "class Student:\n",
    "    def __init__(self,name,age):\n",
    "        self.name = name\n",
    "        self.age = age\n",
    "std1 = Student(\"ABC\",20)\n",
    "print(std1.name)\n",
    "print(std1.age)"
   ]
  },
  {
   "cell_type": "code",
   "execution_count": 10,
   "id": "212d1c89",
   "metadata": {},
   "outputs": [
    {
     "name": "stdout",
     "output_type": "stream",
     "text": [
      "500 is deposited. Current balance is 5500\n",
      "100 is withdrawn. Current balance is 5400\n"
     ]
    }
   ],
   "source": [
    "\n",
    "# Create a class named `BankAccount` with private attributes `account_number` and `balance`. Add methods to deposit and withdraw money, and to check the balance. Create an object of the class and perform some operations.\n",
    "\n",
    "class BankAccount:\n",
    "    def __init__(self,account_number,balance):\n",
    "        self.account_number = account_number\n",
    "        self.balance = balance\n",
    "    def deposit(self,amount):\n",
    "        self.balance += amount\n",
    "        print(f\"{amount} is deposited. Current balance is {self.balance}\")\n",
    "    def withdraw(self,amount):\n",
    "        self.balance -= amount\n",
    "        print(f\"{amount} is withdrawn. Current balance is {self.balance}\")\n",
    "\n",
    "acc1 = BankAccount(12345,5000)\n",
    "acc1.deposit(500)\n",
    "acc1.withdraw(100)"
   ]
  },
  {
   "cell_type": "code",
   "execution_count": 12,
   "id": "a305bd68",
   "metadata": {},
   "outputs": [
    {
     "name": "stdout",
     "output_type": "stream",
     "text": [
      "Sourabh\n",
      "20\n",
      "122\n"
     ]
    }
   ],
   "source": [
    "## Create a base class named `Person` with attributes `name` and `age`. Create a derived class named `Employee` that inherits from `Person` and adds an attribute `employee_id`. Create an object of the derived class and print its attributes.\n",
    "class Person :\n",
    "    def __init__(self,name,age):\n",
    "        self.name = name\n",
    "        self.age = age\n",
    "class Employee(Person):\n",
    "    def __init__(self,name,age,employee_id):\n",
    "        super().__init__(name,age)\n",
    "        self.employee_id = employee_id\n",
    "emp1 = Employee(\"Sourabh\",20,122)\n",
    "print(emp1.name)\n",
    "print(emp1.age)\n",
    "print(emp1.employee_id)"
   ]
  },
  {
   "cell_type": "code",
   "execution_count": 3,
   "id": "dc6b31dc",
   "metadata": {},
   "outputs": [
    {
     "name": "stdout",
     "output_type": "stream",
     "text": [
      "Employee name is Sourabh and age is 20 with Emp id 121\n"
     ]
    }
   ],
   "source": [
    "# Problem:\n",
    "# Create a base class Person with attributes name and age.\n",
    "# Create a derived class Employee that adds an attribute emp_id.\n",
    "# Override the __str__() method to return a formatted string of the employee’s details.\n",
    "# Create an object and print it.\n",
    "\n",
    "class Person:\n",
    "    def __init__(self,name,age):\n",
    "        self.name = name\n",
    "        self.age = age\n",
    "class Employee(Person):\n",
    "    def __init__(self,name,age,emp_id):\n",
    "        super().__init__(name,age)\n",
    "        self.emp_id = emp_id\n",
    "    def __str__(self):\n",
    "        return f\"Employee name is {self.name} and age is {self.age} with Emp id {self.emp_id}\"\n",
    "emp1 = Employee(\"Sourabh\",20,121)\n",
    "def print_details(employee):\n",
    "    print(employee.__str__())\n",
    "print_details(emp1)"
   ]
  },
  {
   "cell_type": "code",
   "execution_count": null,
   "id": "a1d530cc",
   "metadata": {},
   "outputs": [
    {
     "name": "stdout",
     "output_type": "stream",
     "text": [
      "1000 is deposited, Current balance is 5000\n",
      "2300 withdrawn, Current balance is 2700\n"
     ]
    },
    {
     "ename": "AttributeError",
     "evalue": "'BankAccount' object has no attribute '__balance'",
     "output_type": "error",
     "traceback": [
      "\u001b[31m---------------------------------------------------------------------------\u001b[39m",
      "\u001b[31mAttributeError\u001b[39m                            Traceback (most recent call last)",
      "\u001b[36mCell\u001b[39m\u001b[36m \u001b[39m\u001b[32mIn[7]\u001b[39m\u001b[32m, line 22\u001b[39m\n\u001b[32m     20\u001b[39m account1.deposit(\u001b[32m1000\u001b[39m)\n\u001b[32m     21\u001b[39m account1.withdraw(\u001b[32m2300\u001b[39m)\n\u001b[32m---> \u001b[39m\u001b[32m22\u001b[39m \u001b[38;5;28mprint\u001b[39m(\u001b[43maccount1\u001b[49m\u001b[43m.\u001b[49m\u001b[43m__balance\u001b[49m)\n",
      "\u001b[31mAttributeError\u001b[39m: 'BankAccount' object has no attribute '__balance'"
     ]
    }
   ],
   "source": [
    "# Problem:\n",
    "# Create a class BankAccount with private attributes account_number and balance.\n",
    "# Add methods to deposit, withdraw, and check the balance.\n",
    "# Ensure the balance cannot be accessed or changed directly from outside the class.\n",
    "\n",
    "class BankAccount:\n",
    "    def __init__(self,account_number,balance):\n",
    "        self.__account_number = account_number\n",
    "        self.__balance = balance\n",
    "    def deposit(self,amount):\n",
    "        self.__balance += amount\n",
    "        print(f\"{amount} is deposited, Current balance is {self.__balance}\")\n",
    "    def withdraw(self,amount):\n",
    "        if amount > self.__balance:\n",
    "            return f\"Insufficient Funds\"\n",
    "        self.__balance -= amount\n",
    "        print(f\"{amount} withdrawn, Current balance is {self.__balance}\")\n",
    "\n",
    "account1 = BankAccount(1234,4000)\n",
    "account1.deposit(1000)\n",
    "account1.withdraw(2300)\n",
    "print(account1.__balance) ## Balance is not accessible outside the class"
   ]
  },
  {
   "cell_type": "code",
   "execution_count": null,
   "id": "592f5949",
   "metadata": {},
   "outputs": [
    {
     "name": "stdout",
     "output_type": "stream",
     "text": [
      "Sourabh\n",
      "20\n",
      "<__main__.Address object at 0x7976e83afb60>\n"
     ]
    }
   ],
   "source": [
    "## Problem:\n",
    "# Create a class Address with attributes street, city, and zipcode.\n",
    "# Then, create a class Person that includes an Address object as an attribute.\n",
    "# Create an object of the Person class and print the full address.\n",
    "\n",
    "class Address:\n",
    "    def __init__(self,street,city,zipcode):\n",
    "        self.street = street\n",
    "        self.city = city\n",
    "        self.zipcode = zipcode\n",
    "home = Address(\"ABC\",\"New Delhi\",\"111111\")\n",
    "class Person:\n",
    "    def __init__(self,name,age):\n",
    "        self.name = name\n",
    "        self.age = age\n",
    "        self.address = home\n",
    "person1 = Person(\"Sourabh\",20)\n",
    "print(person1.name)\n",
    "print(person1.age)\n",
    "print(person1.address.street)\n",
    "print(person1.address.city)\n",
    "print(person1.address.zipcode)\n",
    "        "
   ]
  }
 ],
 "metadata": {
  "kernelspec": {
   "display_name": "Python 3",
   "language": "python",
   "name": "python3"
  },
  "language_info": {
   "codemirror_mode": {
    "name": "ipython",
    "version": 3
   },
   "file_extension": ".py",
   "mimetype": "text/x-python",
   "name": "python",
   "nbconvert_exporter": "python",
   "pygments_lexer": "ipython3",
   "version": "3.13.0"
  }
 },
 "nbformat": 4,
 "nbformat_minor": 5
}
